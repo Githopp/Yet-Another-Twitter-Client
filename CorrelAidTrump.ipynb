{
 "cells": [
  {
   "cell_type": "code",
   "execution_count": 1,
   "metadata": {},
   "outputs": [],
   "source": [
    "pfad = 'public-ro'"
   ]
  },
  {
   "cell_type": "code",
   "execution_count": 2,
   "metadata": {},
   "outputs": [],
   "source": [
    "name_trump = 'tweets_trump.xlsx'\n",
    "name_troll='tweets_troll_subset.xlsx'\n",
    "name_normal='tweets_normal_subset.xlsx'\n",
    "import pandas as pd\n",
    "tweets_trump = pd.read_excel(pfad + '/' + name_trump)\n",
    "tweets_troll = pd.read_excel(pfad + '/' + name_troll)\n",
    "tweets_normal = pd.read_excel(pfad + '/' + name_normal)"
   ]
  },
  {
   "cell_type": "code",
   "execution_count": 3,
   "metadata": {},
   "outputs": [
    {
     "data": {
      "text/plain": [
       "'Be sure to tune in and watch Donald Trump on Late Night with David Letterman as he presents the Top Ten List tonight!'"
      ]
     },
     "execution_count": 3,
     "metadata": {},
     "output_type": "execute_result"
    }
   ],
   "source": [
    "tweets_trump.Tweet[0]"
   ]
  },
  {
   "cell_type": "code",
   "execution_count": 4,
   "metadata": {},
   "outputs": [
    {
     "data": {
      "text/plain": [
       "'Donald Trump will be appearing on The View tomorrow morning to discuss Celebrity Apprentice and his new book Think Like A Champion!'"
      ]
     },
     "execution_count": 4,
     "metadata": {},
     "output_type": "execute_result"
    }
   ],
   "source": [
    "tweets_trump.Tweet.iloc[1]"
   ]
  },
  {
   "cell_type": "code",
   "execution_count": 5,
   "metadata": {
    "scrolled": true
   },
   "outputs": [
    {
     "data": {
      "text/html": [
       "<div>\n",
       "<style scoped>\n",
       "    .dataframe tbody tr th:only-of-type {\n",
       "        vertical-align: middle;\n",
       "    }\n",
       "\n",
       "    .dataframe tbody tr th {\n",
       "        vertical-align: top;\n",
       "    }\n",
       "\n",
       "    .dataframe thead th {\n",
       "        text-align: right;\n",
       "    }\n",
       "</style>\n",
       "<table border=\"1\" class=\"dataframe\">\n",
       "  <thead>\n",
       "    <tr style=\"text-align: right;\">\n",
       "      <th></th>\n",
       "      <th>User</th>\n",
       "      <th>Tweet</th>\n",
       "      <th>tweet_length</th>\n",
       "      <th>word_number</th>\n",
       "      <th>Date</th>\n",
       "      <th>Year</th>\n",
       "      <th>Month</th>\n",
       "      <th>Hour</th>\n",
       "      <th>hours_since_first_tweet</th>\n",
       "    </tr>\n",
       "  </thead>\n",
       "  <tbody>\n",
       "    <tr>\n",
       "      <th>0</th>\n",
       "      <td>realDonaldTrump</td>\n",
       "      <td>Be sure to tune in and watch Donald Trump on L...</td>\n",
       "      <td>117</td>\n",
       "      <td>23</td>\n",
       "      <td>2009-05-04 18:54:00</td>\n",
       "      <td>2009</td>\n",
       "      <td>5</td>\n",
       "      <td>18</td>\n",
       "      <td>0.000000</td>\n",
       "    </tr>\n",
       "    <tr>\n",
       "      <th>1</th>\n",
       "      <td>realDonaldTrump</td>\n",
       "      <td>Donald Trump will be appearing on The View tom...</td>\n",
       "      <td>131</td>\n",
       "      <td>22</td>\n",
       "      <td>2009-05-05 01:00:00</td>\n",
       "      <td>2009</td>\n",
       "      <td>5</td>\n",
       "      <td>1</td>\n",
       "      <td>6.100000</td>\n",
       "    </tr>\n",
       "    <tr>\n",
       "      <th>2</th>\n",
       "      <td>realDonaldTrump</td>\n",
       "      <td>Donald Trump reads Top Ten Financial Tips on L...</td>\n",
       "      <td>116</td>\n",
       "      <td>17</td>\n",
       "      <td>2009-05-08 13:38:00</td>\n",
       "      <td>2009</td>\n",
       "      <td>5</td>\n",
       "      <td>13</td>\n",
       "      <td>90.733333</td>\n",
       "    </tr>\n",
       "    <tr>\n",
       "      <th>3</th>\n",
       "      <td>realDonaldTrump</td>\n",
       "      <td>New Blog Post: Celebrity Apprentice Finale and...</td>\n",
       "      <td>103</td>\n",
       "      <td>13</td>\n",
       "      <td>2009-05-08 20:40:00</td>\n",
       "      <td>2009</td>\n",
       "      <td>5</td>\n",
       "      <td>20</td>\n",
       "      <td>97.766667</td>\n",
       "    </tr>\n",
       "    <tr>\n",
       "      <th>4</th>\n",
       "      <td>realDonaldTrump</td>\n",
       "      <td>\"My persona will never be that of a wallflower...</td>\n",
       "      <td>111</td>\n",
       "      <td>21</td>\n",
       "      <td>2009-05-12 14:07:00</td>\n",
       "      <td>2009</td>\n",
       "      <td>5</td>\n",
       "      <td>14</td>\n",
       "      <td>187.216667</td>\n",
       "    </tr>\n",
       "    <tr>\n",
       "      <th>5</th>\n",
       "      <td>realDonaldTrump</td>\n",
       "      <td>Miss USA Tara Conner will not be fired - \"I've...</td>\n",
       "      <td>107</td>\n",
       "      <td>20</td>\n",
       "      <td>2009-05-12 19:21:00</td>\n",
       "      <td>2009</td>\n",
       "      <td>5</td>\n",
       "      <td>19</td>\n",
       "      <td>192.450000</td>\n",
       "    </tr>\n",
       "    <tr>\n",
       "      <th>6</th>\n",
       "      <td>realDonaldTrump</td>\n",
       "      <td>Listen to an interview with Donald Trump discu...</td>\n",
       "      <td>114</td>\n",
       "      <td>16</td>\n",
       "      <td>2009-05-13 17:38:00</td>\n",
       "      <td>2009</td>\n",
       "      <td>5</td>\n",
       "      <td>17</td>\n",
       "      <td>214.733333</td>\n",
       "    </tr>\n",
       "    <tr>\n",
       "      <th>7</th>\n",
       "      <td>realDonaldTrump</td>\n",
       "      <td>\"Strive for wholeness and keep your sense of w...</td>\n",
       "      <td>104</td>\n",
       "      <td>14</td>\n",
       "      <td>2009-05-14 16:30:00</td>\n",
       "      <td>2009</td>\n",
       "      <td>5</td>\n",
       "      <td>16</td>\n",
       "      <td>237.600000</td>\n",
       "    </tr>\n",
       "    <tr>\n",
       "      <th>8</th>\n",
       "      <td>realDonaldTrump</td>\n",
       "      <td>Enter the \"Think Like A Champion\" signed book ...</td>\n",
       "      <td>115</td>\n",
       "      <td>11</td>\n",
       "      <td>2009-05-15 14:13:00</td>\n",
       "      <td>2009</td>\n",
       "      <td>5</td>\n",
       "      <td>14</td>\n",
       "      <td>259.316667</td>\n",
       "    </tr>\n",
       "    <tr>\n",
       "      <th>9</th>\n",
       "      <td>realDonaldTrump</td>\n",
       "      <td>\"When the achiever achieves, it's not a platea...</td>\n",
       "      <td>113</td>\n",
       "      <td>15</td>\n",
       "      <td>2009-05-16 22:22:00</td>\n",
       "      <td>2009</td>\n",
       "      <td>5</td>\n",
       "      <td>22</td>\n",
       "      <td>291.466667</td>\n",
       "    </tr>\n",
       "    <tr>\n",
       "      <th>10</th>\n",
       "      <td>realDonaldTrump</td>\n",
       "      <td>\"Donât be afraid of being unique - it's like...</td>\n",
       "      <td>123</td>\n",
       "      <td>19</td>\n",
       "      <td>2009-05-17 15:00:00</td>\n",
       "      <td>2009</td>\n",
       "      <td>5</td>\n",
       "      <td>15</td>\n",
       "      <td>308.100000</td>\n",
       "    </tr>\n",
       "    <tr>\n",
       "      <th>11</th>\n",
       "      <td>realDonaldTrump</td>\n",
       "      <td>\"We win in our lives by having a champion's vi...</td>\n",
       "      <td>109</td>\n",
       "      <td>17</td>\n",
       "      <td>2009-05-18 14:26:00</td>\n",
       "      <td>2009</td>\n",
       "      <td>5</td>\n",
       "      <td>14</td>\n",
       "      <td>331.533333</td>\n",
       "    </tr>\n",
       "    <tr>\n",
       "      <th>12</th>\n",
       "      <td>realDonaldTrump</td>\n",
       "      <td>\"...these days...we could all use a little of ...</td>\n",
       "      <td>128</td>\n",
       "      <td>15</td>\n",
       "      <td>2009-05-19 17:43:00</td>\n",
       "      <td>2009</td>\n",
       "      <td>5</td>\n",
       "      <td>17</td>\n",
       "      <td>358.816667</td>\n",
       "    </tr>\n",
       "    <tr>\n",
       "      <th>13</th>\n",
       "      <td>realDonaldTrump</td>\n",
       "      <td>\"Always know you could be on the precipice of ...</td>\n",
       "      <td>107</td>\n",
       "      <td>15</td>\n",
       "      <td>2009-05-20 13:25:00</td>\n",
       "      <td>2009</td>\n",
       "      <td>5</td>\n",
       "      <td>13</td>\n",
       "      <td>378.516667</td>\n",
       "    </tr>\n",
       "    <tr>\n",
       "      <th>14</th>\n",
       "      <td>realDonaldTrump</td>\n",
       "      <td>Read a great interview with Donald Trump that ...</td>\n",
       "      <td>112</td>\n",
       "      <td>16</td>\n",
       "      <td>2009-05-20 22:29:00</td>\n",
       "      <td>2009</td>\n",
       "      <td>5</td>\n",
       "      <td>22</td>\n",
       "      <td>387.583333</td>\n",
       "    </tr>\n",
       "    <tr>\n",
       "      <th>15</th>\n",
       "      <td>realDonaldTrump</td>\n",
       "      <td>\"Keep it fast, short and direct - whatever it ...</td>\n",
       "      <td>94</td>\n",
       "      <td>14</td>\n",
       "      <td>2009-05-22 02:59:00</td>\n",
       "      <td>2009</td>\n",
       "      <td>5</td>\n",
       "      <td>2</td>\n",
       "      <td>416.083333</td>\n",
       "    </tr>\n",
       "    <tr>\n",
       "      <th>16</th>\n",
       "      <td>realDonaldTrump</td>\n",
       "      <td>Don't forget to enter the \"Think Like A Champi...</td>\n",
       "      <td>130</td>\n",
       "      <td>15</td>\n",
       "      <td>2009-05-22 16:28:00</td>\n",
       "      <td>2009</td>\n",
       "      <td>5</td>\n",
       "      <td>16</td>\n",
       "      <td>429.566667</td>\n",
       "    </tr>\n",
       "    <tr>\n",
       "      <th>17</th>\n",
       "      <td>realDonaldTrump</td>\n",
       "      <td>Did you know Donald Trump is on Facebook? http...</td>\n",
       "      <td>99</td>\n",
       "      <td>14</td>\n",
       "      <td>2009-05-23 16:11:00</td>\n",
       "      <td>2009</td>\n",
       "      <td>5</td>\n",
       "      <td>16</td>\n",
       "      <td>453.283333</td>\n",
       "    </tr>\n",
       "    <tr>\n",
       "      <th>18</th>\n",
       "      <td>realDonaldTrump</td>\n",
       "      <td>\"Your higher self is in direct opposition to y...</td>\n",
       "      <td>108</td>\n",
       "      <td>15</td>\n",
       "      <td>2009-05-26 14:42:00</td>\n",
       "      <td>2009</td>\n",
       "      <td>5</td>\n",
       "      <td>14</td>\n",
       "      <td>523.800000</td>\n",
       "    </tr>\n",
       "    <tr>\n",
       "      <th>19</th>\n",
       "      <td>realDonaldTrump</td>\n",
       "      <td>Read an excerpt from Think Like A Champion by ...</td>\n",
       "      <td>83</td>\n",
       "      <td>13</td>\n",
       "      <td>2009-05-27 14:18:00</td>\n",
       "      <td>2009</td>\n",
       "      <td>5</td>\n",
       "      <td>14</td>\n",
       "      <td>547.400000</td>\n",
       "    </tr>\n",
       "    <tr>\n",
       "      <th>20</th>\n",
       "      <td>realDonaldTrump</td>\n",
       "      <td>\"You have to know when to call it quits and wh...</td>\n",
       "      <td>130</td>\n",
       "      <td>19</td>\n",
       "      <td>2009-05-28 18:03:00</td>\n",
       "      <td>2009</td>\n",
       "      <td>5</td>\n",
       "      <td>18</td>\n",
       "      <td>575.150000</td>\n",
       "    </tr>\n",
       "    <tr>\n",
       "      <th>21</th>\n",
       "      <td>realDonaldTrump</td>\n",
       "      <td>Check out Donald Trump's new iGoogle Showcase ...</td>\n",
       "      <td>71</td>\n",
       "      <td>8</td>\n",
       "      <td>2009-06-03 18:19:00</td>\n",
       "      <td>2009</td>\n",
       "      <td>6</td>\n",
       "      <td>18</td>\n",
       "      <td>719.416667</td>\n",
       "    </tr>\n",
       "    <tr>\n",
       "      <th>22</th>\n",
       "      <td>realDonaldTrump</td>\n",
       "      <td>âIf you don't have problems, you're pretendi...</td>\n",
       "      <td>133</td>\n",
       "      <td>19</td>\n",
       "      <td>2009-06-05 18:21:00</td>\n",
       "      <td>2009</td>\n",
       "      <td>6</td>\n",
       "      <td>18</td>\n",
       "      <td>767.450000</td>\n",
       "    </tr>\n",
       "    <tr>\n",
       "      <th>23</th>\n",
       "      <td>realDonaldTrump</td>\n",
       "      <td>Last week to enter the \"Think Like A Champion\"...</td>\n",
       "      <td>128</td>\n",
       "      <td>15</td>\n",
       "      <td>2009-06-08 20:15:00</td>\n",
       "      <td>2009</td>\n",
       "      <td>6</td>\n",
       "      <td>20</td>\n",
       "      <td>841.350000</td>\n",
       "    </tr>\n",
       "    <tr>\n",
       "      <th>24</th>\n",
       "      <td>realDonaldTrump</td>\n",
       "      <td>Today is Donald Trump's Birthday! Send him you...</td>\n",
       "      <td>102</td>\n",
       "      <td>12</td>\n",
       "      <td>2009-06-14 14:25:00</td>\n",
       "      <td>2009</td>\n",
       "      <td>6</td>\n",
       "      <td>14</td>\n",
       "      <td>979.516667</td>\n",
       "    </tr>\n",
       "  </tbody>\n",
       "</table>\n",
       "</div>"
      ],
      "text/plain": [
       "               User                                              Tweet  \\\n",
       "0   realDonaldTrump  Be sure to tune in and watch Donald Trump on L...   \n",
       "1   realDonaldTrump  Donald Trump will be appearing on The View tom...   \n",
       "2   realDonaldTrump  Donald Trump reads Top Ten Financial Tips on L...   \n",
       "3   realDonaldTrump  New Blog Post: Celebrity Apprentice Finale and...   \n",
       "4   realDonaldTrump  \"My persona will never be that of a wallflower...   \n",
       "5   realDonaldTrump  Miss USA Tara Conner will not be fired - \"I've...   \n",
       "6   realDonaldTrump  Listen to an interview with Donald Trump discu...   \n",
       "7   realDonaldTrump  \"Strive for wholeness and keep your sense of w...   \n",
       "8   realDonaldTrump  Enter the \"Think Like A Champion\" signed book ...   \n",
       "9   realDonaldTrump  \"When the achiever achieves, it's not a platea...   \n",
       "10  realDonaldTrump  \"Donât be afraid of being unique - it's like...   \n",
       "11  realDonaldTrump  \"We win in our lives by having a champion's vi...   \n",
       "12  realDonaldTrump  \"...these days...we could all use a little of ...   \n",
       "13  realDonaldTrump  \"Always know you could be on the precipice of ...   \n",
       "14  realDonaldTrump  Read a great interview with Donald Trump that ...   \n",
       "15  realDonaldTrump  \"Keep it fast, short and direct - whatever it ...   \n",
       "16  realDonaldTrump  Don't forget to enter the \"Think Like A Champi...   \n",
       "17  realDonaldTrump  Did you know Donald Trump is on Facebook? http...   \n",
       "18  realDonaldTrump  \"Your higher self is in direct opposition to y...   \n",
       "19  realDonaldTrump  Read an excerpt from Think Like A Champion by ...   \n",
       "20  realDonaldTrump  \"You have to know when to call it quits and wh...   \n",
       "21  realDonaldTrump  Check out Donald Trump's new iGoogle Showcase ...   \n",
       "22  realDonaldTrump  âIf you don't have problems, you're pretendi...   \n",
       "23  realDonaldTrump  Last week to enter the \"Think Like A Champion\"...   \n",
       "24  realDonaldTrump  Today is Donald Trump's Birthday! Send him you...   \n",
       "\n",
       "    tweet_length  word_number                Date  Year  Month  Hour  \\\n",
       "0            117           23 2009-05-04 18:54:00  2009      5    18   \n",
       "1            131           22 2009-05-05 01:00:00  2009      5     1   \n",
       "2            116           17 2009-05-08 13:38:00  2009      5    13   \n",
       "3            103           13 2009-05-08 20:40:00  2009      5    20   \n",
       "4            111           21 2009-05-12 14:07:00  2009      5    14   \n",
       "5            107           20 2009-05-12 19:21:00  2009      5    19   \n",
       "6            114           16 2009-05-13 17:38:00  2009      5    17   \n",
       "7            104           14 2009-05-14 16:30:00  2009      5    16   \n",
       "8            115           11 2009-05-15 14:13:00  2009      5    14   \n",
       "9            113           15 2009-05-16 22:22:00  2009      5    22   \n",
       "10           123           19 2009-05-17 15:00:00  2009      5    15   \n",
       "11           109           17 2009-05-18 14:26:00  2009      5    14   \n",
       "12           128           15 2009-05-19 17:43:00  2009      5    17   \n",
       "13           107           15 2009-05-20 13:25:00  2009      5    13   \n",
       "14           112           16 2009-05-20 22:29:00  2009      5    22   \n",
       "15            94           14 2009-05-22 02:59:00  2009      5     2   \n",
       "16           130           15 2009-05-22 16:28:00  2009      5    16   \n",
       "17            99           14 2009-05-23 16:11:00  2009      5    16   \n",
       "18           108           15 2009-05-26 14:42:00  2009      5    14   \n",
       "19            83           13 2009-05-27 14:18:00  2009      5    14   \n",
       "20           130           19 2009-05-28 18:03:00  2009      5    18   \n",
       "21            71            8 2009-06-03 18:19:00  2009      6    18   \n",
       "22           133           19 2009-06-05 18:21:00  2009      6    18   \n",
       "23           128           15 2009-06-08 20:15:00  2009      6    20   \n",
       "24           102           12 2009-06-14 14:25:00  2009      6    14   \n",
       "\n",
       "    hours_since_first_tweet  \n",
       "0                  0.000000  \n",
       "1                  6.100000  \n",
       "2                 90.733333  \n",
       "3                 97.766667  \n",
       "4                187.216667  \n",
       "5                192.450000  \n",
       "6                214.733333  \n",
       "7                237.600000  \n",
       "8                259.316667  \n",
       "9                291.466667  \n",
       "10               308.100000  \n",
       "11               331.533333  \n",
       "12               358.816667  \n",
       "13               378.516667  \n",
       "14               387.583333  \n",
       "15               416.083333  \n",
       "16               429.566667  \n",
       "17               453.283333  \n",
       "18               523.800000  \n",
       "19               547.400000  \n",
       "20               575.150000  \n",
       "21               719.416667  \n",
       "22               767.450000  \n",
       "23               841.350000  \n",
       "24               979.516667  "
      ]
     },
     "execution_count": 5,
     "metadata": {},
     "output_type": "execute_result"
    }
   ],
   "source": [
    "tweets_trump.head(25)"
   ]
  },
  {
   "cell_type": "code",
   "execution_count": 6,
   "metadata": {
    "scrolled": true
   },
   "outputs": [
    {
     "data": {
      "text/plain": [
       "array(['realDonaldTrump', 'DonaldJTrumpJr', 'TeamTrump', 'EricTrump'],\n",
       "      dtype=object)"
      ]
     },
     "execution_count": 6,
     "metadata": {},
     "output_type": "execute_result"
    }
   ],
   "source": [
    "tweets_trump[\"User\"].unique()"
   ]
  },
  {
   "cell_type": "code",
   "execution_count": 7,
   "metadata": {},
   "outputs": [
    {
     "data": {
      "text/plain": [
       "4"
      ]
     },
     "execution_count": 7,
     "metadata": {},
     "output_type": "execute_result"
    }
   ],
   "source": [
    "len(tweets_trump[\"User\"].unique())"
   ]
  },
  {
   "cell_type": "code",
   "execution_count": 8,
   "metadata": {},
   "outputs": [
    {
     "data": {
      "text/plain": [
       "195"
      ]
     },
     "execution_count": 8,
     "metadata": {},
     "output_type": "execute_result"
    }
   ],
   "source": [
    "len(tweets_troll[\"User\"].unique())"
   ]
  },
  {
   "cell_type": "code",
   "execution_count": 9,
   "metadata": {},
   "outputs": [
    {
     "data": {
      "text/plain": [
       "28043"
      ]
     },
     "execution_count": 9,
     "metadata": {},
     "output_type": "execute_result"
    }
   ],
   "source": [
    "len(tweets_normal[\"User\"].unique())"
   ]
  },
  {
   "cell_type": "code",
   "execution_count": 10,
   "metadata": {
    "scrolled": false
   },
   "outputs": [
    {
     "data": {
      "text/plain": [
       "<Figure size 640x480 with 1 Axes>"
      ]
     },
     "metadata": {},
     "output_type": "display_data"
    }
   ],
   "source": [
    "import matplotlib.pyplot as plt\n",
    "plt.hist(tweets_troll[\"tweet_length\"])\n",
    "plt.xlabel('Tweet Länge / Zeichen')\n",
    "plt.ylabel('Anzahl')\n",
    "plt.title(\"Verteilung der Länge von Troll-Tweets\")\n",
    "plt.show()"
   ]
  },
  {
   "cell_type": "code",
   "execution_count": 11,
   "metadata": {},
   "outputs": [
    {
     "data": {
      "text/plain": [
       "Text(0.5, 1.0, 'Verteilung der Länge von Trump-Tweets')"
      ]
     },
     "execution_count": 11,
     "metadata": {},
     "output_type": "execute_result"
    },
    {
     "data": {
      "image/png": "[encoded data removed]",
      "text/plain": [
       "<Figure size 432x288 with 1 Axes>"
      ]
     },
     "metadata": {
      "needs_background": "light"
     },
     "output_type": "display_data"
    }
   ],
   "source": [
    "plt.hist(tweets_trump[\"tweet_length\"])\n",
    "plt.xlabel('Tweet Länge / Zeichen')\n",
    "plt.ylabel('Anzahl')\n",
    "plt.title(\"Verteilung der Länge von Trump-Tweets\")"
   ]
  },
  {
   "cell_type": "code",
   "execution_count": 12,
   "metadata": {},
   "outputs": [
    {
     "data": {
      "text/plain": [
       "Text(0.5, 1.0, 'Verteilung der Länge von Normale-Tweets')"
      ]
     },
     "execution_count": 12,
     "metadata": {},
     "output_type": "execute_result"
    },
    {
     "data": {
      "image/png": "[encoded data removed]",
      "text/plain": [
       "<Figure size 432x288 with 1 Axes>"
      ]
     },
     "metadata": {
      "needs_background": "light"
     },
     "output_type": "display_data"
    }
   ],
   "source": [
    "plt.hist(tweets_normal[\"tweet_length\"])\n",
    "plt.xlabel('Tweet Länge / Zeichen')\n",
    "plt.ylabel('Anzahl')\n",
    "plt.title(\"Verteilung der Länge von Normale-Tweets\")"
   ]
  },
  {
   "cell_type": "code",
   "execution_count": 13,
   "metadata": {},
   "outputs": [
    {
     "data": {
      "image/png": "[encoded data removed]",
      "text/plain": [
       "<Figure size 432x288 with 1 Axes>"
      ]
     },
     "metadata": {
      "needs_background": "light"
     },
     "output_type": "display_data"
    }
   ],
   "source": [
    "plt.hist(tweets_normal[\"tweet_length\"], alpha=0.5, label=\"normale User\")\n",
    "plt.hist(tweets_trump[\"tweet_length\"], alpha=0.5,label=\"Trump\")\n",
    "plt.hist(tweets_troll[\"tweet_length\"], alpha=0.5,label=\"Trolls\")\n",
    "\n",
    "plt.xlabel('Tweet Länge / Zeichen')\n",
    "plt.ylabel('Anzahl')\n",
    "plt.title(\"Verteilung der Länge von Allen-Tweets\")\n",
    "plt.legend()\n",
    "plt.savefig(\"Alle Tweets zusammen.pdf\") #Speichert im Pfad des Jupyter Notebooks / .filename speichert automatisch ftyp\n",
    "plt.show()"
   ]
  },
  {
   "cell_type": "code",
   "execution_count": 14,
   "metadata": {},
   "outputs": [
    {
     "data": {
      "text/plain": [
       "60"
      ]
     },
     "execution_count": 14,
     "metadata": {},
     "output_type": "execute_result"
    }
   ],
   "source": [
    "len(tweets_troll.Tweet[0])"
   ]
  },
  {
   "cell_type": "code",
   "execution_count": 15,
   "metadata": {},
   "outputs": [
    {
     "data": {
      "text/plain": [
       "498605"
      ]
     },
     "execution_count": 15,
     "metadata": {},
     "output_type": "execute_result"
    }
   ],
   "source": [
    "tweets_trump[\"word_number\"].sum()"
   ]
  },
  {
   "cell_type": "code",
   "execution_count": 16,
   "metadata": {},
   "outputs": [
    {
     "data": {
      "text/plain": [
       "394572"
      ]
     },
     "execution_count": 16,
     "metadata": {},
     "output_type": "execute_result"
    }
   ],
   "source": [
    "tweets_troll[\"word_number\"].sum()"
   ]
  },
  {
   "cell_type": "code",
   "execution_count": 17,
   "metadata": {},
   "outputs": [
    {
     "data": {
      "text/plain": [
       "431782"
      ]
     },
     "execution_count": 17,
     "metadata": {},
     "output_type": "execute_result"
    }
   ],
   "source": [
    "tweets_normal[\"word_number\"].sum()"
   ]
  },
  {
   "cell_type": "code",
   "execution_count": 18,
   "metadata": {},
   "outputs": [],
   "source": [
    "worte_trump=[]\n",
    "iter_list= tweets_trump.Tweet\n",
    "\n",
    "for element in iter_list:\n",
    "   worte=element.split(\" \")\n",
    "   worte_trump.extend(worte)"
   ]
  },
  {
   "cell_type": "code",
   "execution_count": 19,
   "metadata": {},
   "outputs": [],
   "source": [
    "worte_norm=[]\n",
    "iter_list= tweets_normal.Tweet\n",
    "\n",
    "for element in iter_list:\n",
    "   worte=element.split(\" \")\n",
    "   worte_norm.extend(worte)"
   ]
  },
  {
   "cell_type": "code",
   "execution_count": 20,
   "metadata": {},
   "outputs": [],
   "source": [
    "worte_trolls=[]\n",
    "iter_list= tweets_troll.Tweet\n",
    "\n",
    "for element in iter_list:\n",
    "   worte=element.split(\" \")\n",
    "   worte_trolls.extend(worte)"
   ]
  },
  {
   "cell_type": "code",
   "execution_count": 21,
   "metadata": {},
   "outputs": [
    {
     "name": "stdout",
     "output_type": "stream",
     "text": [
      "Python 3.7.3\r\n"
     ]
    }
   ],
   "source": [
    "!python --version"
   ]
  },
  {
   "cell_type": "code",
   "execution_count": null,
   "metadata": {},
   "outputs": [],
   "source": []
  },
  {
   "cell_type": "code",
   "execution_count": null,
   "metadata": {},
   "outputs": [],
   "source": []
  },
  {
   "cell_type": "code",
   "execution_count": 22,
   "metadata": {
    "scrolled": true
   },
   "outputs": [
    {
     "name": "stdout",
     "output_type": "stream",
     "text": [
      "pip 19.0.3 from /opt/conda/lib/python3.7/site-packages/pip (python 3.7)\r\n"
     ]
    }
   ],
   "source": [
    "!pip --version"
   ]
  },
  {
   "cell_type": "code",
   "execution_count": 23,
   "metadata": {
    "scrolled": false
   },
   "outputs": [],
   "source": [
    "import sys\n",
    "#!{sys.executable} -m pip install pyenchant\n",
    "import enchant"
   ]
  },
  {
   "cell_type": "code",
   "execution_count": 24,
   "metadata": {},
   "outputs": [
    {
     "name": "stdout",
     "output_type": "stream",
     "text": [
      "Python 3.7.3\r\n"
     ]
    }
   ],
   "source": [
    "!{sys.executable} --version"
   ]
  },
  {
   "cell_type": "code",
   "execution_count": 25,
   "metadata": {},
   "outputs": [],
   "source": [
    "wobuch = enchant.Dict(\"en_US\")"
   ]
  },
  {
   "cell_type": "code",
   "execution_count": 26,
   "metadata": {},
   "outputs": [
    {
     "data": {
      "text/plain": [
       "True"
      ]
     },
     "execution_count": 26,
     "metadata": {},
     "output_type": "execute_result"
    }
   ],
   "source": [
    "wobuch.check(\"large\")"
   ]
  },
  {
   "cell_type": "code",
   "execution_count": 27,
   "metadata": {},
   "outputs": [],
   "source": [
    "echte_worte_trump =[]\n",
    "wortlaenge_trump=[]\n",
    "for wort in worte_trump:\n",
    "    \n",
    "    if len(wort) > 0:\n",
    "        if wobuch.check(wort):\n",
    "            echte_worte_trump.append(wort)\n",
    "            \n",
    "            laenge = len(wort)\n",
    "            wortlaenge_trump.append(laenge)"
   ]
  },
  {
   "cell_type": "code",
   "execution_count": 28,
   "metadata": {},
   "outputs": [
    {
     "data": {
      "text/plain": [
       "356190"
      ]
     },
     "execution_count": 28,
     "metadata": {},
     "output_type": "execute_result"
    }
   ],
   "source": [
    "len(echte_worte_trump)"
   ]
  },
  {
   "cell_type": "code",
   "execution_count": 29,
   "metadata": {},
   "outputs": [],
   "source": [
    "echte_worte_norm =[]\n",
    "wortlaenge_norm=[]\n",
    "for wort in worte_norm:\n",
    "    \n",
    "    if len(wort) > 0:\n",
    "        if wobuch.check(wort):\n",
    "            echte_worte_norm.append(wort)\n",
    "            laenge = len(wort)\n",
    "            wortlaenge_norm.append(laenge)"
   ]
  },
  {
   "cell_type": "code",
   "execution_count": 30,
   "metadata": {},
   "outputs": [
    {
     "data": {
      "text/plain": [
       "302398"
      ]
     },
     "execution_count": 30,
     "metadata": {},
     "output_type": "execute_result"
    }
   ],
   "source": [
    "len(echte_worte_norm)"
   ]
  },
  {
   "cell_type": "code",
   "execution_count": 31,
   "metadata": {},
   "outputs": [
    {
     "data": {
      "text/plain": [
       "['it', 'why', 'I', 'did', 'you', 'never', 'talk', 'to', 'me']"
      ]
     },
     "execution_count": 31,
     "metadata": {},
     "output_type": "execute_result"
    }
   ],
   "source": [
    "echte_worte_norm[1:10]"
   ]
  },
  {
   "cell_type": "code",
   "execution_count": 32,
   "metadata": {},
   "outputs": [
    {
     "data": {
      "text/plain": [
       "[2, 3, 1, 3, 3, 5, 4, 2, 2]"
      ]
     },
     "execution_count": 32,
     "metadata": {},
     "output_type": "execute_result"
    }
   ],
   "source": [
    "wortlaenge_norm[1:10]"
   ]
  },
  {
   "cell_type": "code",
   "execution_count": 33,
   "metadata": {},
   "outputs": [],
   "source": [
    "echte_worte_trolls =[]\n",
    "wortlaenge_trolls=[]\n",
    "for wort in worte_trolls:\n",
    "    \n",
    "    if len(wort) > 0:\n",
    "        if wobuch.check(wort):\n",
    "            echte_worte_trolls.append(wort)\n",
    "            laenge = len(wort)\n",
    "            wortlaenge_trolls.append(laenge)"
   ]
  },
  {
   "cell_type": "code",
   "execution_count": 34,
   "metadata": {},
   "outputs": [
    {
     "data": {
      "text/plain": [
       "267812"
      ]
     },
     "execution_count": 34,
     "metadata": {},
     "output_type": "execute_result"
    }
   ],
   "source": [
    "len(echte_worte_trolls)"
   ]
  },
  {
   "cell_type": "code",
   "execution_count": 37,
   "metadata": {},
   "outputs": [
    {
     "data": {
      "text/html": [
       "<div>\n",
       "<style scoped>\n",
       "    .dataframe tbody tr th:only-of-type {\n",
       "        vertical-align: middle;\n",
       "    }\n",
       "\n",
       "    .dataframe tbody tr th {\n",
       "        vertical-align: top;\n",
       "    }\n",
       "\n",
       "    .dataframe thead th {\n",
       "        text-align: right;\n",
       "    }\n",
       "</style>\n",
       "<table border=\"1\" class=\"dataframe\">\n",
       "  <thead>\n",
       "    <tr style=\"text-align: right;\">\n",
       "      <th></th>\n",
       "      <th>wort</th>\n",
       "      <th>laenge</th>\n",
       "    </tr>\n",
       "  </thead>\n",
       "  <tbody>\n",
       "    <tr>\n",
       "      <th>0</th>\n",
       "      <td>Be</td>\n",
       "      <td>2</td>\n",
       "    </tr>\n",
       "    <tr>\n",
       "      <th>1</th>\n",
       "      <td>sure</td>\n",
       "      <td>4</td>\n",
       "    </tr>\n",
       "    <tr>\n",
       "      <th>2</th>\n",
       "      <td>to</td>\n",
       "      <td>2</td>\n",
       "    </tr>\n",
       "    <tr>\n",
       "      <th>3</th>\n",
       "      <td>tune</td>\n",
       "      <td>4</td>\n",
       "    </tr>\n",
       "    <tr>\n",
       "      <th>4</th>\n",
       "      <td>in</td>\n",
       "      <td>2</td>\n",
       "    </tr>\n",
       "  </tbody>\n",
       "</table>\n",
       "</div>"
      ],
      "text/plain": [
       "   wort  laenge\n",
       "0    Be       2\n",
       "1  sure       4\n",
       "2    to       2\n",
       "3  tune       4\n",
       "4    in       2"
      ]
     },
     "execution_count": 37,
     "metadata": {},
     "output_type": "execute_result"
    }
   ],
   "source": [
    "word_data_trump = pd.DataFrame()\n",
    "word_data_trump[\"wort\"]=echte_worte_trump\n",
    "word_data_trump[\"laenge\"]=wortlaenge_trump\n",
    "word_data_trump.head()"
   ]
  },
  {
   "cell_type": "code",
   "execution_count": 38,
   "metadata": {
    "scrolled": true
   },
   "outputs": [
    {
     "data": {
      "text/html": [
       "<div>\n",
       "<style scoped>\n",
       "    .dataframe tbody tr th:only-of-type {\n",
       "        vertical-align: middle;\n",
       "    }\n",
       "\n",
       "    .dataframe tbody tr th {\n",
       "        vertical-align: top;\n",
       "    }\n",
       "\n",
       "    .dataframe thead th {\n",
       "        text-align: right;\n",
       "    }\n",
       "</style>\n",
       "<table border=\"1\" class=\"dataframe\">\n",
       "  <thead>\n",
       "    <tr style=\"text-align: right;\">\n",
       "      <th></th>\n",
       "      <th>wort</th>\n",
       "      <th>laenge</th>\n",
       "    </tr>\n",
       "  </thead>\n",
       "  <tbody>\n",
       "    <tr>\n",
       "      <th>0</th>\n",
       "      <td>It</td>\n",
       "      <td>2</td>\n",
       "    </tr>\n",
       "    <tr>\n",
       "      <th>1</th>\n",
       "      <td>it</td>\n",
       "      <td>2</td>\n",
       "    </tr>\n",
       "    <tr>\n",
       "      <th>2</th>\n",
       "      <td>why</td>\n",
       "      <td>3</td>\n",
       "    </tr>\n",
       "    <tr>\n",
       "      <th>3</th>\n",
       "      <td>I</td>\n",
       "      <td>1</td>\n",
       "    </tr>\n",
       "    <tr>\n",
       "      <th>4</th>\n",
       "      <td>did</td>\n",
       "      <td>3</td>\n",
       "    </tr>\n",
       "  </tbody>\n",
       "</table>\n",
       "</div>"
      ],
      "text/plain": [
       "  wort  laenge\n",
       "0   It       2\n",
       "1   it       2\n",
       "2  why       3\n",
       "3    I       1\n",
       "4  did       3"
      ]
     },
     "execution_count": 38,
     "metadata": {},
     "output_type": "execute_result"
    }
   ],
   "source": [
    "word_data_normal = pd.DataFrame()\n",
    "word_data_normal[\"wort\"]=echte_worte_norm\n",
    "word_data_normal[\"laenge\"]=wortlaenge_norm\n",
    "word_data_normal.head()"
   ]
  },
  {
   "cell_type": "code",
   "execution_count": 40,
   "metadata": {},
   "outputs": [
    {
     "data": {
      "text/html": [
       "<div>\n",
       "<style scoped>\n",
       "    .dataframe tbody tr th:only-of-type {\n",
       "        vertical-align: middle;\n",
       "    }\n",
       "\n",
       "    .dataframe tbody tr th {\n",
       "        vertical-align: top;\n",
       "    }\n",
       "\n",
       "    .dataframe thead th {\n",
       "        text-align: right;\n",
       "    }\n",
       "</style>\n",
       "<table border=\"1\" class=\"dataframe\">\n",
       "  <thead>\n",
       "    <tr style=\"text-align: right;\">\n",
       "      <th></th>\n",
       "      <th>wort</th>\n",
       "      <th>laenge</th>\n",
       "    </tr>\n",
       "  </thead>\n",
       "  <tbody>\n",
       "    <tr>\n",
       "      <th>0</th>\n",
       "      <td>Do</td>\n",
       "      <td>2</td>\n",
       "    </tr>\n",
       "    <tr>\n",
       "      <th>1</th>\n",
       "      <td>you</td>\n",
       "      <td>3</td>\n",
       "    </tr>\n",
       "    <tr>\n",
       "      <th>2</th>\n",
       "      <td>agree</td>\n",
       "      <td>5</td>\n",
       "    </tr>\n",
       "    <tr>\n",
       "      <th>3</th>\n",
       "      <td>with</td>\n",
       "      <td>4</td>\n",
       "    </tr>\n",
       "    <tr>\n",
       "      <th>4</th>\n",
       "      <td>the</td>\n",
       "      <td>3</td>\n",
       "    </tr>\n",
       "  </tbody>\n",
       "</table>\n",
       "</div>"
      ],
      "text/plain": [
       "    wort  laenge\n",
       "0     Do       2\n",
       "1    you       3\n",
       "2  agree       5\n",
       "3   with       4\n",
       "4    the       3"
      ]
     },
     "execution_count": 40,
     "metadata": {},
     "output_type": "execute_result"
    }
   ],
   "source": [
    "word_data_trolls = pd.DataFrame()\n",
    "word_data_trolls[\"wort\"]=echte_worte_trolls\n",
    "word_data_trolls[\"laenge\"]=wortlaenge_trolls\n",
    "word_data_trolls.head()"
   ]
  },
  {
   "cell_type": "code",
   "execution_count": 41,
   "metadata": {},
   "outputs": [
    {
     "data": {
      "text/plain": [
       "3.809965674376153"
      ]
     },
     "execution_count": 41,
     "metadata": {},
     "output_type": "execute_result"
    }
   ],
   "source": [
    "word_data_normal.laenge.mean()"
   ]
  },
  {
   "cell_type": "code",
   "execution_count": 42,
   "metadata": {},
   "outputs": [
    {
     "data": {
      "text/plain": [
       "4.5378549131480295"
      ]
     },
     "execution_count": 42,
     "metadata": {},
     "output_type": "execute_result"
    }
   ],
   "source": [
    "word_data_trolls.laenge.mean()"
   ]
  },
  {
   "cell_type": "code",
   "execution_count": 43,
   "metadata": {},
   "outputs": [
    {
     "data": {
      "text/plain": [
       "4.2161346472388335"
      ]
     },
     "execution_count": 43,
     "metadata": {},
     "output_type": "execute_result"
    }
   ],
   "source": [
    "word_data_trump.laenge.mean()"
   ]
  },
  {
   "cell_type": "code",
   "execution_count": 46,
   "metadata": {},
   "outputs": [],
   "source": [
    "anzahl_trump = len(word_data_trump.wort.unique())\n",
    "anzahl_trolls = len(word_data_trolls.wort.unique())\n",
    "anzahl_norm = len(word_data_normal.wort.unique())"
   ]
  },
  {
   "cell_type": "code",
   "execution_count": 50,
   "metadata": {
    "scrolled": true
   },
   "outputs": [
    {
     "name": "stdout",
     "output_type": "stream",
     "text": [
      "16250 16611 23323\n"
     ]
    }
   ],
   "source": [
    "print(anzahl_trump, anzahl_norm, anzahl_trolls)"
   ]
  },
  {
   "cell_type": "code",
   "execution_count": 52,
   "metadata": {},
   "outputs": [
    {
     "data": {
      "text/plain": [
       "86"
      ]
     },
     "execution_count": 52,
     "metadata": {},
     "output_type": "execute_result"
    }
   ],
   "source": [
    "word_data_normal.wort.str.count(\"stupid\").sum()"
   ]
  },
  {
   "cell_type": "code",
   "execution_count": 53,
   "metadata": {},
   "outputs": [
    {
     "data": {
      "text/plain": [
       "92"
      ]
     },
     "execution_count": 53,
     "metadata": {},
     "output_type": "execute_result"
    }
   ],
   "source": [
    "word_data_trump.wort.str.count(\"stupid\").sum()"
   ]
  },
  {
   "cell_type": "code",
   "execution_count": 54,
   "metadata": {},
   "outputs": [
    {
     "data": {
      "text/plain": [
       "33"
      ]
     },
     "execution_count": 54,
     "metadata": {},
     "output_type": "execute_result"
    }
   ],
   "source": [
    "word_data_trolls.wort.str.count(\"stupid\").sum()"
   ]
  }
 ],
 "metadata": {
  "kernelspec": {
   "display_name": "Python 3",
   "language": "python",
   "name": "python3"
  },
  "language_info": {
   "codemirror_mode": {
    "name": "ipython",
    "version": 3
   },
   "file_extension": ".py",
   "mimetype": "text/x-python",
   "name": "python",
   "nbconvert_exporter": "python",
   "pygments_lexer": "ipython3",
   "version": "3.6.7"
  }
 },
 "nbformat": 4,
 "nbformat_minor": 2
}
