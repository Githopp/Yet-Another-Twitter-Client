{
 "cells": [
  {
   "cell_type": "code",
   "execution_count": 19,
   "metadata": {
    "scrolled": true
   },
   "outputs": [],
   "source": [
    "import pandas as pd\n",
    "import matplotlib\n",
    "import tweepy\n",
    "import numpy as np\n",
    "import re"
   ]
  },
  {
   "cell_type": "code",
   "execution_count": null,
   "metadata": {},
   "outputs": [],
   "source": []
  },
  {
   "cell_type": "code",
   "execution_count": 9,
   "metadata": {},
   "outputs": [],
   "source": [
    "CONSUMER_KEY = \"\"\n",
    "CONSUMER_SECRET = \"\"\n",
    "ACCESS_TOKEN =  \"\"\n",
    "ACCESS_SECRET = \"\""
   ]
  },
  {
   "cell_type": "code",
   "execution_count": 7,
   "metadata": {},
   "outputs": [],
   "source": [
    "\n",
    "# API's setup:\n",
    "def twitter_setup():\n",
    "    \"\"\"\n",
    "    Utility function to setup the Twitter's API\n",
    "    with our access keys provided.\n",
    "    \"\"\"\n",
    "    # Authentication and access using keys:\n",
    "    auth = tweepy.OAuthHandler(CONSUMER_KEY, CONSUMER_SECRET)\n",
    "    auth.set_access_token(ACCESS_TOKEN, ACCESS_SECRET)\n",
    "\n",
    "    # Return API with authentication:\n",
    "    api = tweepy.API(auth)\n",
    "    return api"
   ]
  },
  {
   "cell_type": "code",
   "execution_count": 10,
   "metadata": {
    "scrolled": true
   },
   "outputs": [
    {
     "name": "stdout",
     "output_type": "stream",
     "text": [
      "Number of tweets extracted: 200.\n",
      "\n",
      "5 recent tweets:\n",
      "\n",
      "“Someone should call Obama up. The Obama Administration spied on a rival presidential campaign using Federal Agenci… https://t.co/msMEtcaMIr\n",
      "\n",
      "Beautiful afternoon in Iowa. Thank you to all of our Nation’s Farmers. May God bless you, and may God Bless America! https://t.co/VYA2bSzMWf\n",
      "\n",
      "“Trump administration gives final approval for year-round E15 use” https://t.co/WPrDiyfpIW\n",
      "\n",
      "Today, here in Iowa, we honor America’s cherished farming heritage. We salute your commitment to American Energy In… https://t.co/4lM6n04fcy\n",
      "\n",
      "On my way to Iowa - just heard nearly 1,000 agriculture groups signed a letter urging Congress to approve the USMCA… https://t.co/dQdPN7bIQE\n",
      "\n"
     ]
    }
   ],
   "source": [
    "# We create an extractor object:\n",
    "extractor = twitter_setup()\n",
    "\n",
    "# We create a tweet list as follows:\n",
    "tweets = extractor.user_timeline(screen_name=\"realDonaldTrump\", count=200)\n",
    "print(\"Number of tweets extracted: {}.\\n\".format(len(tweets)))\n",
    "\n",
    "# We print the most recent 5 tweets:\n",
    "print(\"5 recent tweets:\\n\")\n",
    "for tweet in tweets[:5]:\n",
    "    print(tweet.text)\n",
    "    print()"
   ]
  },
  {
   "cell_type": "code",
   "execution_count": 13,
   "metadata": {},
   "outputs": [
    {
     "data": {
      "text/html": [
       "<div>\n",
       "<style scoped>\n",
       "    .dataframe tbody tr th:only-of-type {\n",
       "        vertical-align: middle;\n",
       "    }\n",
       "\n",
       "    .dataframe tbody tr th {\n",
       "        vertical-align: top;\n",
       "    }\n",
       "\n",
       "    .dataframe thead th {\n",
       "        text-align: right;\n",
       "    }\n",
       "</style>\n",
       "<table border=\"1\" class=\"dataframe\">\n",
       "  <thead>\n",
       "    <tr style=\"text-align: right;\">\n",
       "      <th></th>\n",
       "      <th>Tweets</th>\n",
       "    </tr>\n",
       "  </thead>\n",
       "  <tbody>\n",
       "    <tr>\n",
       "      <th>0</th>\n",
       "      <td>“Someone should call Obama up. The Obama Admin...</td>\n",
       "    </tr>\n",
       "    <tr>\n",
       "      <th>1</th>\n",
       "      <td>Beautiful afternoon in Iowa. Thank you to all ...</td>\n",
       "    </tr>\n",
       "    <tr>\n",
       "      <th>2</th>\n",
       "      <td>“Trump administration gives final approval for...</td>\n",
       "    </tr>\n",
       "    <tr>\n",
       "      <th>3</th>\n",
       "      <td>Today, here in Iowa, we honor America’s cheris...</td>\n",
       "    </tr>\n",
       "    <tr>\n",
       "      <th>4</th>\n",
       "      <td>On my way to Iowa - just heard nearly 1,000 ag...</td>\n",
       "    </tr>\n",
       "    <tr>\n",
       "      <th>5</th>\n",
       "      <td>“Why did the Democrats run if they didn’t want...</td>\n",
       "    </tr>\n",
       "    <tr>\n",
       "      <th>6</th>\n",
       "      <td>Good day in the Stock Market. People have no i...</td>\n",
       "    </tr>\n",
       "    <tr>\n",
       "      <th>7</th>\n",
       "      <td>....If Mexico produces (which I think they wil...</td>\n",
       "    </tr>\n",
       "    <tr>\n",
       "      <th>8</th>\n",
       "      <td>...Companies to come to the U.S.A and to get c...</td>\n",
       "    </tr>\n",
       "    <tr>\n",
       "      <th>9</th>\n",
       "      <td>Maria, Dagan, Steve, Stuart V - When you are t...</td>\n",
       "    </tr>\n",
       "  </tbody>\n",
       "</table>\n",
       "</div>"
      ],
      "text/plain": [
       "                                              Tweets\n",
       "0  “Someone should call Obama up. The Obama Admin...\n",
       "1  Beautiful afternoon in Iowa. Thank you to all ...\n",
       "2  “Trump administration gives final approval for...\n",
       "3  Today, here in Iowa, we honor America’s cheris...\n",
       "4  On my way to Iowa - just heard nearly 1,000 ag...\n",
       "5  “Why did the Democrats run if they didn’t want...\n",
       "6  Good day in the Stock Market. People have no i...\n",
       "7  ....If Mexico produces (which I think they wil...\n",
       "8  ...Companies to come to the U.S.A and to get c...\n",
       "9  Maria, Dagan, Steve, Stuart V - When you are t..."
      ]
     },
     "metadata": {},
     "output_type": "display_data"
    }
   ],
   "source": [
    "# We create a pandas dataframe as follows:\n",
    "df = pd.DataFrame(data=[tweet.text for tweet in tweets], columns=['Tweets'])\n",
    "\n",
    "# We display the first 10 elements of the dataframe:\n",
    "display(df.head(10))"
   ]
  },
  {
   "cell_type": "code",
   "execution_count": 17,
   "metadata": {},
   "outputs": [],
   "source": [
    "#     def tweets_to_dataframe(self,tweets):\n",
    "\n",
    "#         \"\"\"\n",
    "#         \"\"\"\n",
    "\n",
    "#         df = pd.DataFrame([tweet.text for tweet in tweets], columns=[\"Tweets\"])\n",
    "        df[\"author\"] = np.array([tweet.user.screen_name for tweet in tweets])\n",
    "        df[\"date\"] = np.array([tweet.created_at for tweet in tweets])\n",
    "        df[\"likes\"] = np.array([tweet.favorite_count for tweet in tweets])\n",
    "        df[\"retweets\"] = np.array([tweet.retweet_count for tweet in tweets])\n",
    "        df[\"source\"] = np.array([tweet.source for tweet in tweets])\n",
    "        df[\"hashtags\"] = np.array([tweet.entities.get(\"hashtags\") for tweet in tweets])"
   ]
  },
  {
   "cell_type": "code",
   "execution_count": 18,
   "metadata": {
    "scrolled": true
   },
   "outputs": [
    {
     "data": {
      "text/html": [
       "<div>\n",
       "<style scoped>\n",
       "    .dataframe tbody tr th:only-of-type {\n",
       "        vertical-align: middle;\n",
       "    }\n",
       "\n",
       "    .dataframe tbody tr th {\n",
       "        vertical-align: top;\n",
       "    }\n",
       "\n",
       "    .dataframe thead th {\n",
       "        text-align: right;\n",
       "    }\n",
       "</style>\n",
       "<table border=\"1\" class=\"dataframe\">\n",
       "  <thead>\n",
       "    <tr style=\"text-align: right;\">\n",
       "      <th></th>\n",
       "      <th>Tweets</th>\n",
       "      <th>author</th>\n",
       "      <th>date</th>\n",
       "      <th>likes</th>\n",
       "      <th>retweets</th>\n",
       "      <th>source</th>\n",
       "      <th>hashtags</th>\n",
       "    </tr>\n",
       "  </thead>\n",
       "  <tbody>\n",
       "    <tr>\n",
       "      <th>0</th>\n",
       "      <td>“Someone should call Obama up. The Obama Admin...</td>\n",
       "      <td>realDonaldTrump</td>\n",
       "      <td>2019-06-12 04:28:40</td>\n",
       "      <td>53053</td>\n",
       "      <td>14281</td>\n",
       "      <td>Twitter for iPhone</td>\n",
       "      <td>[]</td>\n",
       "    </tr>\n",
       "    <tr>\n",
       "      <th>1</th>\n",
       "      <td>Beautiful afternoon in Iowa. Thank you to all ...</td>\n",
       "      <td>realDonaldTrump</td>\n",
       "      <td>2019-06-12 01:21:39</td>\n",
       "      <td>62729</td>\n",
       "      <td>13954</td>\n",
       "      <td>Twitter for iPhone</td>\n",
       "      <td>[]</td>\n",
       "    </tr>\n",
       "    <tr>\n",
       "      <th>2</th>\n",
       "      <td>“Trump administration gives final approval for...</td>\n",
       "      <td>realDonaldTrump</td>\n",
       "      <td>2019-06-11 22:20:30</td>\n",
       "      <td>34208</td>\n",
       "      <td>9003</td>\n",
       "      <td>Twitter for iPhone</td>\n",
       "      <td>[]</td>\n",
       "    </tr>\n",
       "    <tr>\n",
       "      <th>3</th>\n",
       "      <td>Today, here in Iowa, we honor America’s cheris...</td>\n",
       "      <td>realDonaldTrump</td>\n",
       "      <td>2019-06-11 21:45:32</td>\n",
       "      <td>42191</td>\n",
       "      <td>11292</td>\n",
       "      <td>Twitter for iPhone</td>\n",
       "      <td>[]</td>\n",
       "    </tr>\n",
       "    <tr>\n",
       "      <th>4</th>\n",
       "      <td>On my way to Iowa - just heard nearly 1,000 ag...</td>\n",
       "      <td>realDonaldTrump</td>\n",
       "      <td>2019-06-11 17:44:20</td>\n",
       "      <td>67406</td>\n",
       "      <td>17680</td>\n",
       "      <td>Twitter for iPhone</td>\n",
       "      <td>[]</td>\n",
       "    </tr>\n",
       "  </tbody>\n",
       "</table>\n",
       "</div>"
      ],
      "text/plain": [
       "                                              Tweets           author  \\\n",
       "0  “Someone should call Obama up. The Obama Admin...  realDonaldTrump   \n",
       "1  Beautiful afternoon in Iowa. Thank you to all ...  realDonaldTrump   \n",
       "2  “Trump administration gives final approval for...  realDonaldTrump   \n",
       "3  Today, here in Iowa, we honor America’s cheris...  realDonaldTrump   \n",
       "4  On my way to Iowa - just heard nearly 1,000 ag...  realDonaldTrump   \n",
       "\n",
       "                 date  likes  retweets              source hashtags  \n",
       "0 2019-06-12 04:28:40  53053     14281  Twitter for iPhone       []  \n",
       "1 2019-06-12 01:21:39  62729     13954  Twitter for iPhone       []  \n",
       "2 2019-06-11 22:20:30  34208      9003  Twitter for iPhone       []  \n",
       "3 2019-06-11 21:45:32  42191     11292  Twitter for iPhone       []  \n",
       "4 2019-06-11 17:44:20  67406     17680  Twitter for iPhone       []  "
      ]
     },
     "execution_count": 18,
     "metadata": {},
     "output_type": "execute_result"
    }
   ],
   "source": [
    "df.head()"
   ]
  },
  {
   "cell_type": "code",
   "execution_count": 22,
   "metadata": {},
   "outputs": [],
   "source": [
    "    def tweet_manipulation(df, delete_numbers=False,\n",
    "        delete_hyperlinks=False, delete_hashtags=False,\n",
    "        only_small_letters = False, delete_diamonds_from_hashtags=False,\n",
    "        delete_accountlinks=False, delete_at_from_accountlinks=False):\n",
    "        \n",
    "        print(df)\n",
    "            "
   ]
  },
  {
   "cell_type": "code",
   "execution_count": 26,
   "metadata": {},
   "outputs": [
    {
     "name": "stdout",
     "output_type": "stream",
     "text": [
      "“Someone should call Obama up. The Obama Administration spied on a rival presidential campaign using Federal Agenci… https://t.co/msMEtcaMIr\n"
     ]
    }
   ],
   "source": [
    "tweet_manipulation(df.Tweets.iloc[0])"
   ]
  },
  {
   "cell_type": "code",
   "execution_count": null,
   "metadata": {},
   "outputs": [],
   "source": []
  },
  {
   "cell_type": "code",
   "execution_count": null,
   "metadata": {},
   "outputs": [],
   "source": []
  },
  {
   "cell_type": "code",
   "execution_count": null,
   "metadata": {},
   "outputs": [],
   "source": []
  },
  {
   "cell_type": "code",
   "execution_count": null,
   "metadata": {},
   "outputs": [],
   "source": []
  }
 ],
 "metadata": {
  "kernelspec": {
   "display_name": "twitterproject",
   "language": "python",
   "name": "twitterproject"
  },
  "language_info": {
   "codemirror_mode": {
    "name": "ipython",
    "version": 3
   },
   "file_extension": ".py",
   "mimetype": "text/x-python",
   "name": "python",
   "nbconvert_exporter": "python",
   "pygments_lexer": "ipython3",
   "version": "3.6.7"
  }
 },
 "nbformat": 4,
 "nbformat_minor": 2
}
