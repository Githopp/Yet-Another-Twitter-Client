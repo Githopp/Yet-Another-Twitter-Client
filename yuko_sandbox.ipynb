{
 "cells": [
  {
   "cell_type": "markdown",
   "metadata": {},
   "source": [
    "# YATClient Twitter Project\n",
    "\n",
    "## Background Info\n",
    "\n",
    "* The 2019 European parliamentary elections took place on 24 – 26 May. \n",
    "* As a result of the election, there were eight political parties in Germany that held two or more seats in parliament. \n",
    "* Our project analyzes the twitter data in the three weeks leading up to the election to look for insights related to the outcome.\n",
    "\n",
    "\n",
    "|Party|2009|2014|2019|$ \\Delta $| % |\n",
    "|---|---|---|---|---|---|\n",
    "|CDU/CSU | 42 | 34| 29| <span style=\"color:red\">-5 |<span style=\"color:red\"> -14.71 </span>|\n",
    "|SPD | 23 | 27| 16| <span style=\"color:red\">-11 | <span style=\"color:red\">-40.74 </span>|\n",
    "|die Grünen | 14 | 11| 21| <span style=\"color:green\">-10 |<span style=\"color:green\"> 90.91 </span>|\n",
    "|die Linke | 8 | 7| 5| <span style=\"color:red\">-2 | <span style=\"color:red\">-28.57 </span>|\n",
    "|AfD | 0 | 7| 11| <span style=\"color:green\"> 4 | <span style=\"color:green\">57.14 </span>|\n",
    "|FDP | 12 | 3| 5| <span style=\"color:green\"> 2 | <span style=\"color:green\">66.67 </span>|\n",
    "|die Partei | 0 | 1| 2| <span style=\"color:green\"> 1 | <span style=\"color:green\">100.00 </span>|\n",
    "|FW | 0 | 1| 2| <span style=\"color:green\"> 1 | <span style=\"color:green\">100.00 </span>|\n",
    "\n",
    "\n",
    "\n"
   ]
  },
  {
   "cell_type": "markdown",
   "metadata": {},
   "source": [
    "## Obtain Data and Install"
   ]
  },
  {
   "cell_type": "code",
   "execution_count": 2,
   "metadata": {
    "scrolled": true
   },
   "outputs": [
    {
     "name": "stdout",
     "output_type": "stream",
     "text": [
      "Python 3.6.6\n",
      "Obtaining file:///home/jovyan/twitter_data_analysis\n",
      "Requirement already satisfied: matplotlib in /opt/conda/lib/python3.6/site-packages (from yatclient==0.1.0)\n",
      "Requirement already satisfied: numpy in /opt/conda/lib/python3.6/site-packages (from yatclient==0.1.0)\n",
      "Requirement already satisfied: tweepy in /home/jovyan/.local/lib/python3.6/site-packages (from yatclient==0.1.0)\n",
      "Requirement already satisfied: pandas in /opt/conda/lib/python3.6/site-packages (from yatclient==0.1.0)\n",
      "Requirement already satisfied: scikit-learn in /opt/conda/lib/python3.6/site-packages (from yatclient==0.1.0)\n",
      "Collecting jupyter (from yatclient==0.1.0)\n",
      "  Using cached https://files.pythonhosted.org/packages/83/df/0f5dd132200728a86190397e1ea87cd76244e42d39ec5e88efd25b2abd7e/jupyter-1.0.0-py2.py3-none-any.whl\n",
      "Requirement already satisfied: cycler>=0.10 in /opt/conda/lib/python3.6/site-packages (from matplotlib->yatclient==0.1.0)\n",
      "Requirement already satisfied: pyparsing!=2.0.4,!=2.1.2,!=2.1.6,>=2.0.1 in /opt/conda/lib/python3.6/site-packages (from matplotlib->yatclient==0.1.0)\n",
      "Requirement already satisfied: python-dateutil>=2.1 in /opt/conda/lib/python3.6/site-packages (from matplotlib->yatclient==0.1.0)\n",
      "Requirement already satisfied: pytz in /opt/conda/lib/python3.6/site-packages (from matplotlib->yatclient==0.1.0)\n",
      "Requirement already satisfied: six>=1.10 in /opt/conda/lib/python3.6/site-packages (from matplotlib->yatclient==0.1.0)\n",
      "Requirement already satisfied: kiwisolver>=1.0.1 in /opt/conda/lib/python3.6/site-packages (from matplotlib->yatclient==0.1.0)\n",
      "Requirement already satisfied: requests-oauthlib>=0.7.0 in /home/jovyan/.local/lib/python3.6/site-packages (from tweepy->yatclient==0.1.0)\n",
      "Requirement already satisfied: requests>=2.11.1 in /opt/conda/lib/python3.6/site-packages (from tweepy->yatclient==0.1.0)\n",
      "Requirement already satisfied: PySocks>=1.5.7 in /opt/conda/lib/python3.6/site-packages (from tweepy->yatclient==0.1.0)\n",
      "Collecting qtconsole (from jupyter->yatclient==0.1.0)\n",
      "  Using cached https://files.pythonhosted.org/packages/79/0b/efb5a694b6922bb85c35e4f1db6197daae23c764dd384023fc9517d79e26/qtconsole-4.5.1-py2.py3-none-any.whl\n",
      "Requirement already satisfied: ipykernel in /opt/conda/lib/python3.6/site-packages (from jupyter->yatclient==0.1.0)\n",
      "Collecting jupyter-console (from jupyter->yatclient==0.1.0)\n",
      "  Using cached https://files.pythonhosted.org/packages/cb/ee/6374ae8c21b7d0847f9c3722dcdfac986b8e54fa9ad9ea66e1eb6320d2b8/jupyter_console-6.0.0-py2.py3-none-any.whl\n",
      "Requirement already satisfied: nbconvert in /opt/conda/lib/python3.6/site-packages (from jupyter->yatclient==0.1.0)\n",
      "Requirement already satisfied: ipywidgets in /opt/conda/lib/python3.6/site-packages (from jupyter->yatclient==0.1.0)\n",
      "Requirement already satisfied: notebook in /opt/conda/lib/python3.6/site-packages (from jupyter->yatclient==0.1.0)\n",
      "Requirement already satisfied: setuptools in /opt/conda/lib/python3.6/site-packages (from kiwisolver>=1.0.1->matplotlib->yatclient==0.1.0)\n",
      "Requirement already satisfied: oauthlib>=3.0.0 in /home/jovyan/.local/lib/python3.6/site-packages (from requests-oauthlib>=0.7.0->tweepy->yatclient==0.1.0)\n",
      "Requirement already satisfied: chardet<3.1.0,>=3.0.2 in /opt/conda/lib/python3.6/site-packages (from requests>=2.11.1->tweepy->yatclient==0.1.0)\n",
      "Requirement already satisfied: idna<2.8,>=2.5 in /opt/conda/lib/python3.6/site-packages (from requests>=2.11.1->tweepy->yatclient==0.1.0)\n",
      "Requirement already satisfied: urllib3<1.24,>=1.21.1 in /opt/conda/lib/python3.6/site-packages (from requests>=2.11.1->tweepy->yatclient==0.1.0)\n",
      "Requirement already satisfied: certifi>=2017.4.17 in /opt/conda/lib/python3.6/site-packages (from requests>=2.11.1->tweepy->yatclient==0.1.0)\n",
      "Requirement already satisfied: jupyter-core in /opt/conda/lib/python3.6/site-packages (from qtconsole->jupyter->yatclient==0.1.0)\n",
      "Requirement already satisfied: pygments in /opt/conda/lib/python3.6/site-packages (from qtconsole->jupyter->yatclient==0.1.0)\n",
      "Requirement already satisfied: jupyter-client>=4.1 in /opt/conda/lib/python3.6/site-packages (from qtconsole->jupyter->yatclient==0.1.0)\n",
      "Requirement already satisfied: ipython-genutils in /opt/conda/lib/python3.6/site-packages (from qtconsole->jupyter->yatclient==0.1.0)\n",
      "Requirement already satisfied: traitlets in /opt/conda/lib/python3.6/site-packages (from qtconsole->jupyter->yatclient==0.1.0)\n",
      "Requirement already satisfied: tornado>=4.0 in /opt/conda/lib/python3.6/site-packages (from ipykernel->jupyter->yatclient==0.1.0)\n",
      "Requirement already satisfied: ipython>=4.0.0 in /opt/conda/lib/python3.6/site-packages (from ipykernel->jupyter->yatclient==0.1.0)\n",
      "Collecting prompt-toolkit<2.1.0,>=2.0.0 (from jupyter-console->jupyter->yatclient==0.1.0)\n",
      "  Using cached https://files.pythonhosted.org/packages/f7/a7/9b1dd14ef45345f186ef69d175bdd2491c40ab1dfa4b2b3e4352df719ed7/prompt_toolkit-2.0.9-py3-none-any.whl\n",
      "Requirement already satisfied: pandocfilters>=1.4.1 in /opt/conda/lib/python3.6/site-packages (from nbconvert->jupyter->yatclient==0.1.0)\n",
      "Requirement already satisfied: jinja2 in /opt/conda/lib/python3.6/site-packages (from nbconvert->jupyter->yatclient==0.1.0)\n",
      "Requirement already satisfied: nbformat>=4.4 in /opt/conda/lib/python3.6/site-packages (from nbconvert->jupyter->yatclient==0.1.0)\n",
      "Requirement already satisfied: entrypoints>=0.2.2 in /opt/conda/lib/python3.6/site-packages (from nbconvert->jupyter->yatclient==0.1.0)\n",
      "Requirement already satisfied: mistune>=0.7.4 in /opt/conda/lib/python3.6/site-packages (from nbconvert->jupyter->yatclient==0.1.0)\n",
      "Requirement already satisfied: testpath in /opt/conda/lib/python3.6/site-packages (from nbconvert->jupyter->yatclient==0.1.0)\n",
      "Requirement already satisfied: bleach in /opt/conda/lib/python3.6/site-packages (from nbconvert->jupyter->yatclient==0.1.0)\n",
      "Requirement already satisfied: widgetsnbextension~=3.2.0 in /opt/conda/lib/python3.6/site-packages (from ipywidgets->jupyter->yatclient==0.1.0)\n",
      "Requirement already satisfied: pyzmq>=17 in /opt/conda/lib/python3.6/site-packages (from notebook->jupyter->yatclient==0.1.0)\n",
      "Requirement already satisfied: Send2Trash in /opt/conda/lib/python3.6/site-packages (from notebook->jupyter->yatclient==0.1.0)\n",
      "Requirement already satisfied: terminado>=0.8.1 in /opt/conda/lib/python3.6/site-packages (from notebook->jupyter->yatclient==0.1.0)\n",
      "Requirement already satisfied: prometheus_client in /opt/conda/lib/python3.6/site-packages (from notebook->jupyter->yatclient==0.1.0)\n",
      "Requirement already satisfied: decorator in /opt/conda/lib/python3.6/site-packages (from traitlets->qtconsole->jupyter->yatclient==0.1.0)\n",
      "Requirement already satisfied: pickleshare in /opt/conda/lib/python3.6/site-packages (from ipython>=4.0.0->ipykernel->jupyter->yatclient==0.1.0)\n",
      "Requirement already satisfied: jedi>=0.10 in /opt/conda/lib/python3.6/site-packages (from ipython>=4.0.0->ipykernel->jupyter->yatclient==0.1.0)\n",
      "Requirement already satisfied: pexpect; sys_platform != \"win32\" in /opt/conda/lib/python3.6/site-packages (from ipython>=4.0.0->ipykernel->jupyter->yatclient==0.1.0)\n",
      "Requirement already satisfied: backcall in /opt/conda/lib/python3.6/site-packages (from ipython>=4.0.0->ipykernel->jupyter->yatclient==0.1.0)\n",
      "Requirement already satisfied: simplegeneric>0.8 in /opt/conda/lib/python3.6/site-packages (from ipython>=4.0.0->ipykernel->jupyter->yatclient==0.1.0)\n",
      "Requirement already satisfied: wcwidth in /opt/conda/lib/python3.6/site-packages (from prompt-toolkit<2.1.0,>=2.0.0->jupyter-console->jupyter->yatclient==0.1.0)\n",
      "Requirement already satisfied: MarkupSafe>=0.23 in /opt/conda/lib/python3.6/site-packages (from jinja2->nbconvert->jupyter->yatclient==0.1.0)\n",
      "Requirement already satisfied: jsonschema!=2.5.0,>=2.4 in /opt/conda/lib/python3.6/site-packages (from nbformat>=4.4->nbconvert->jupyter->yatclient==0.1.0)\n",
      "Requirement already satisfied: html5lib!=1.0b1,!=1.0b2,!=1.0b3,!=1.0b4,!=1.0b5,!=1.0b6,!=1.0b7,!=1.0b8,>=0.99999999pre in /opt/conda/lib/python3.6/site-packages (from bleach->nbconvert->jupyter->yatclient==0.1.0)\n",
      "Requirement already satisfied: parso>=0.3.0 in /opt/conda/lib/python3.6/site-packages (from jedi>=0.10->ipython>=4.0.0->ipykernel->jupyter->yatclient==0.1.0)\n",
      "Requirement already satisfied: ptyprocess>=0.5 in /opt/conda/lib/python3.6/site-packages (from pexpect; sys_platform != \"win32\"->ipython>=4.0.0->ipykernel->jupyter->yatclient==0.1.0)\n",
      "Requirement already satisfied: webencodings in /opt/conda/lib/python3.6/site-packages (from html5lib!=1.0b1,!=1.0b2,!=1.0b3,!=1.0b4,!=1.0b5,!=1.0b6,!=1.0b7,!=1.0b8,>=0.99999999pre->bleach->nbconvert->jupyter->yatclient==0.1.0)\n",
      "Installing collected packages: qtconsole, prompt-toolkit, jupyter-console, jupyter, yatclient\n"
     ]
    },
    {
     "name": "stdout",
     "output_type": "stream",
     "text": [
      "  Found existing installation: prompt-toolkit 1.0.15\n",
      "    Uninstalling prompt-toolkit-1.0.15:\n",
      "      Successfully uninstalled prompt-toolkit-1.0.15\n",
      "  Found existing installation: yatclient 0.1.0\n",
      "    Can't uninstall 'yatclient'. No files were found to uninstall.\n",
      "  Running setup.py develop for yatclient\n",
      "Successfully installed jupyter-1.0.0 jupyter-console-6.0.0 prompt-toolkit-2.0.9 qtconsole-4.5.1 yatclient\n",
      "\u001b[33mYou are using pip version 9.0.3, however version 19.1.1 is available.\n",
      "You should consider upgrading via the 'pip install --upgrade pip' command.\u001b[0m\n"
     ]
    }
   ],
   "source": [
    "#This will install the package in the actual jupyter notebook Kernel. [with_Jupyter] is obsolete if you start it out of jupyter, but for demo purpose left inside.\n",
    "import sys\n",
    "!{sys.executable} --version\n",
    "!{sys.executable} -m pip install -e \".\"[with_jupyter] #\".\" describes the path to the package, in this case its the same folder."
   ]
  },
  {
   "cell_type": "markdown",
   "metadata": {},
   "source": [
    "## Example imports:\n",
    "import yatclient as yat\n",
    "\n",
    "from yatclient import TweetAnalyzer,TwitterClient\n",
    "\n",
    "from yatclient import * #uses __all__ list in __init__.py filename must be declared in this case eg.: twitter_client.TwitterClient"
   ]
  },
  {
   "cell_type": "markdown",
   "metadata": {},
   "source": [
    "### Enter your twitter Creds here:"
   ]
  },
  {
   "cell_type": "code",
   "execution_count": 1,
   "metadata": {},
   "outputs": [],
   "source": [
    "#Access\n",
    "CONSUMER_KEY = \"25aKeI8DFf2ew44LSslNwoRBn\"\n",
    "CONSUMER_SECRET = \"kkbU4dBNpA9k0Rcu11VMHAt9uv9LjnOohsnaL3xW4itthwOtf1\"\n",
    "ACCESS_TOKEN =  \"555424234-wwFaAuK0kYO0V8WTlx71kTwyuQRIRq0QmI8hoRoX\"\n",
    "ACCESS_TOKEN_SECRET = \"lLKEDEXnrunCqe9lQ56BkE0XtLdTv9BMKRTmtxGMbtXJl\""
   ]
  },
  {
   "cell_type": "markdown",
   "metadata": {},
   "source": [
    "### This will download the twitter data of major parties three weeks before European Parliament Election.\n",
    "- download data for all parties"
   ]
  },
  {
   "cell_type": "code",
   "execution_count": 6,
   "metadata": {},
   "outputs": [
    {
     "name": "stdout",
     "output_type": "stream",
     "text": [
      "saved data to tweets2019-07-14.csv\n",
      "\n",
      "Timeframe from:\n",
      " author\n",
      "AfD           2019-05-03 07:00:01\n",
      "CDU           2019-05-03 05:09:44\n",
      "CSU           2019-05-03 08:24:59\n",
      "DiePARTEI     2019-05-03 02:47:54\n",
      "Die_Gruenen   2019-05-03 07:06:05\n",
      "dieLinke      2019-05-03 07:47:14\n",
      "fdp           2019-05-03 07:35:09\n",
      "fwlandtag     2019-05-08 16:21:48\n",
      "spdde         2019-05-16 19:06:24\n",
      "Name: date, dtype: datetime64[ns] \n",
      "\n",
      "to date:\n",
      " author\n",
      "AfD           2019-05-23 19:20:55\n",
      "CDU           2019-05-23 20:48:21\n",
      "CSU           2019-05-23 17:30:34\n",
      "DiePARTEI     2019-05-23 22:11:26\n",
      "Die_Gruenen   2019-05-23 20:20:23\n",
      "dieLinke      2019-05-23 18:20:08\n",
      "fdp           2019-05-23 13:24:53\n",
      "fwlandtag     2019-05-23 09:51:02\n",
      "spdde         2019-05-23 21:15:03\n",
      "Name: date, dtype: datetime64[ns] \n",
      "\n",
      "CPU times: user 7.29 s, sys: 460 ms, total: 7.75 s\n",
      "Wall time: 2min 33s\n"
     ]
    }
   ],
   "source": [
    "%%time\n",
    "\n",
    "import yatclient as yat\n",
    "import datetime\n",
    "\n",
    "Parties = [\"spdde\", \"fdp\",\"die_Gruenen\",\"afd\",\"dieLinke\",\"fwlandtag\",\"diepartei\",\"cdu\",\"csu\"]\n",
    "EuropawahlDate = datetime.date(2019, 5, 24)\n",
    "ThreeWeeksBeforeDate = EuropawahlDate - datetime.timedelta(weeks=3)\n",
    "today = datetime.date.today()\n",
    "\n",
    "twitter_client = yat.TwitterClient(CONSUMER_KEY, CONSUMER_SECRET, ACCESS_TOKEN, ACCESS_TOKEN_SECRET, Parties)\n",
    "\n",
    "tweets = twitter_client.get_user_timeline_tweets(start_date = str(ThreeWeeksBeforeDate), end_date = str(EuropawahlDate), retweets = True)\n",
    "\n",
    "analyzer_load = yat.TweetAnalyzer(tweets)\n",
    "analyzer_load.write_to_csv(\"tweets{}.csv\".format(today), encoding = \"utf-8\",index = False)\n",
    "print(\"saved data to tweets{}.csv\\n\".format(today))\n",
    "df = analyzer_load.get_dataframe()\n",
    "df.head(2)\n",
    "print(\"Timeframe from:\\n\",df.groupby(by=[\"author\"]).date.min(),\"\\n\\nto date:\\n\",df.groupby(by=[\"author\"]).date.max(),\"\\n\")"
   ]
  },
  {
   "cell_type": "code",
   "execution_count": 73,
   "metadata": {},
   "outputs": [],
   "source": [
    "#Wenn Daten bereits vorhanden:\n",
    "import yatclient as yat\n",
    "#   \n",
    "analyzer = yat.TweetAnalyzer()\n",
    "analyzer.read_from_csv(\"tweets2019-07-05.csv\")\n",
    "dfr = analyzer.get_dataframe()\n",
    "dfr = dfr.drop(columns=['Unnamed: 0'])"
   ]
  },
  {
   "cell_type": "code",
   "execution_count": null,
   "metadata": {},
   "outputs": [],
   "source": [
    "dfr= analyzer_load.get_dataframe()\n",
    "df_SPDEuropa = dfr.loc[dfr[\"author\"] == \"SPDEuropa\"].copy()\n",
    "df_fdp = dfr.loc[dfr[\"author\"] == \"fdp\"].copy()\n",
    "df_Die_Gruenen = dfr.loc[dfr[\"author\"] == \"Die_Gruenen\"].copy()\n",
    "df_AfD = dfr.loc[dfr[\"author\"] == \"AfD\"].copy()\n",
    "df_dieLinke = dfr.loc[dfr[\"author\"] == \"dieLinke\"].copy()\n",
    "df_fwlandtag = dfr.loc[dfr[\"author\"] == \"fwlandtag\"].copy()\n",
    "df_DiePARTEI = dfr.loc[dfr[\"author\"] == \"DiePARTEI\"].copy()\n",
    "df_CDU = dfr.loc[dfr[\"author\"] == \"CDU\"].copy()\n",
    "df_CSU = dfr.loc[dfr[\"author\"] == \"CSU\"].copy()\n",
    "\n",
    "analyzer_SPDEuropa = yat.TweetAnalyzer(df = df_SPDEuropa)\n",
    "analyzer_fdp = yat.TweetAnalyzer(df = df_fdp)\n",
    "analyzer_Die_Gruenen = yat.TweetAnalyzer(df = df_Die_Gruenen)\n",
    "analyzer_AfD = yat.TweetAnalyzer(df = df_AfD)\n",
    "analyzer_dieLinke = yat.TweetAnalyzer(df = df_dieLinke)\n",
    "analyzer_fwlandtag = yat.TweetAnalyzer(df = df_fwlandtag)\n",
    "analyzer_DiePARTEI = yat.TweetAnalyzer(df = df_DiePARTEI)\n",
    "analyzer_CDU = yat.TweetAnalyzer(df = df_CDU)\n",
    "analyzer_CSU = yat.TweetAnalyzer(df = df_CSU)"
   ]
  },
  {
   "cell_type": "code",
   "execution_count": 74,
   "metadata": {},
   "outputs": [
    {
     "data": {
      "text/plain": [
       "Index(['tweets', 'author', 'date', 'likes', 'retweets', 'hashtags',\n",
       "       'linked_accounts', 'urls', 'id', 'tweet_type'],\n",
       "      dtype='object')"
      ]
     },
     "execution_count": 74,
     "metadata": {},
     "output_type": "execute_result"
    }
   ],
   "source": [
    "dfr.columns"
   ]
  },
  {
   "cell_type": "code",
   "execution_count": null,
   "metadata": {},
   "outputs": [],
   "source": []
  },
  {
   "cell_type": "code",
   "execution_count": 8,
   "metadata": {},
   "outputs": [
    {
     "data": {
      "image/png": "[encoded data removed]",
      "text/plain": [
       "<Figure size 432x288 with 1 Axes>"
      ]
     },
     "metadata": {},
     "output_type": "display_data"
    }
   ],
   "source": [
    "# Pie\n",
    "\n",
    "import matplotlib.pyplot as plt\n",
    "\n",
    "# Pie chart, where the slices will be ordered and plotted counter-clockwise:\n",
    "labels = 'AfD', 'Die PARTEI', 'Die Gruenen'\n",
    "sizes = [22, 7, 5]\n",
    "explode = (0, 0, 0.1)  \n",
    "\n",
    "fig1, ax1 = plt.subplots()\n",
    "ax1.pie(sizes, explode=explode, labels=labels, autopct='%1.1f%%',\n",
    "        shadow=True, startangle=90)\n",
    "ax1.axis('equal')  # Equal aspect ratio ensures that pie is drawn as a circle.\n",
    "\n",
    "plt.show()"
   ]
  }
 ],
 "metadata": {
  "kernelspec": {
   "display_name": "Python 3",
   "language": "python",
   "name": "python3"
  },
  "language_info": {
   "codemirror_mode": {
    "name": "ipython",
    "version": 3
   },
   "file_extension": ".py",
   "mimetype": "text/x-python",
   "name": "python",
   "nbconvert_exporter": "python",
   "pygments_lexer": "ipython3",
   "version": "3.6.6"
  },
  "pycharm": {
   "stem_cell": {
    "cell_type": "raw",
    "metadata": {
     "collapsed": false
    },
    "source": []
   }
  }
 },
 "nbformat": 4,
 "nbformat_minor": 2
}
