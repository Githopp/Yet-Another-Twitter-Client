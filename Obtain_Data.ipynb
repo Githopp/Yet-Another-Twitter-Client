{
 "cells": [
  {
   "cell_type": "markdown",
   "metadata": {},
   "source": [
    "# Obtain Data and Install"
   ]
  },
  {
   "cell_type": "code",
   "execution_count": 78,
   "metadata": {
    "scrolled": true
   },
   "outputs": [
    {
     "name": "stdout",
     "output_type": "stream",
     "text": [
      "Python 3.6.7\n"
     ]
    }
   ],
   "source": [
    "#This will install the package in the actual jupyter notebook Kernel. [with_Jupyter] is obsolete if you start it out of jupyter, but for demo purpose left inside.\n",
    "import sys\n",
    "!{sys.executable} --version\n",
    "!{sys.executable} -m pip install -e \".\"[with_jupyter] #\".\" describes the path to the package, in this case its the same folder."
   ]
  },
  {
   "cell_type": "markdown",
   "metadata": {},
   "source": [
    "## Example imports:\n",
    "import yatclient as yat\n",
    "\n",
    "from yatclient import TweetAnalyzer,TwitterClient\n",
    "\n",
    "from yatclient import * #uses __all__ list in __init__.py filename must be declared in this case eg.: twitter_client.TwitterClient"
   ]
  },
  {
   "cell_type": "markdown",
   "metadata": {},
   "source": [
    "### Enter your twitter Creds here:"
   ]
  },
  {
   "cell_type": "code",
   "execution_count": 71,
   "metadata": {},
   "outputs": [],
   "source": [
    "#Access\n",
    "CONSUMER_KEY = \"\"\n",
    "CONSUMER_SECRET = \"\"\n",
    "ACCESS_TOKEN =  \"\"\n",
    "ACCESS_TOKEN_SECRET = \"\""
   ]
  },
  {
   "cell_type": "markdown",
   "metadata": {},
   "source": [
    "### This will download the twitter data of major parties three weeks before European Parliament Election."
   ]
  },
  {
   "cell_type": "code",
   "execution_count": 72,
   "metadata": {},
   "outputs": [
    {
     "name": "stdout",
     "output_type": "stream",
     "text": [
      "saved data to tweets2019-07-05.csv\n",
      "\n",
      "Timeframe from:\n",
      " author\n",
      "AfD           2019-05-02 10:32:01\n",
      "CDU           2019-05-02 06:27:05\n",
      "CSU           2019-05-02 12:05:12\n",
      "DiePARTEI     2019-05-02 08:15:53\n",
      "Die_Gruenen   2019-05-02 10:02:14\n",
      "dieLinke      2019-05-02 08:00:00\n",
      "fdp           2019-05-02 07:10:41\n",
      "fwlandtag     2019-05-08 16:21:48\n",
      "spdde         2019-05-16 18:33:37\n",
      "Name: date, dtype: datetime64[ns] \n",
      "to date\n",
      "\n",
      " author\n",
      "AfD           2019-05-22 15:09:38\n",
      "CDU           2019-05-22 18:03:19\n",
      "CSU           2019-05-22 19:10:11\n",
      "DiePARTEI     2019-05-22 21:22:08\n",
      "Die_Gruenen   2019-05-22 16:26:08\n",
      "dieLinke      2019-05-22 16:42:26\n",
      "fdp           2019-05-22 16:46:25\n",
      "fwlandtag     2019-05-20 07:26:16\n",
      "spdde         2019-05-22 22:22:18\n",
      "Name: date, dtype: datetime64[ns]\n"
     ]
    }
   ],
   "source": [
    "import yatclient as yat # works but calls have to be p_twitter.TweetAnalyzer?\n",
    "import datetime\n",
    "\n",
    "EuropawahlDate = datetime.date(2019, 5, 23)\n",
    "ThreeWeeksBeforeDate = EuropawahlDate - datetime.timedelta(weeks=3)\n",
    "today = datetime.date.today()\n",
    "Parties = [\"spdde\", \"fdp\",\"die_Gruenen\",\"afd\",\"dieLinke\",\"fwlandtag\",\"diepartei\",\"cdu\",\"csu\"]\n",
    "\n",
    "twitter_client = yat.TwitterClient(CONSUMER_KEY, CONSUMER_SECRET, ACCESS_TOKEN, ACCESS_TOKEN_SECRET, Parties)\n",
    "\n",
    "tweets = twitter_client.get_user_timeline_tweets(start_date = str(ThreeWeeksBeforeDate), end_date = str(EuropawahlDate))\n",
    "analyzer_load = yat.TweetAnalyzer(tweets)\n",
    "analyzer_load.write_to_csv(\"tweets{}.csv\".format(today), encoding = \"utf-8\")\n",
    "print(\"saved data to tweets{}.csv\\n\".format(today))\n",
    "df = analyzer_load.get_dataframe()\n",
    "df.head(2)\n",
    "print(\"Timeframe from:\\n\",df.groupby(by=[\"author\"]).date.min(),\"\\nto date\\n\\n\",df.groupby(by=[\"author\"]).date.max())"
   ]
  },
  {
   "cell_type": "code",
   "execution_count": 73,
   "metadata": {},
   "outputs": [],
   "source": [
    "#Wenn Daten bereits vorhanden:\n",
    "import yatclient as yat\n",
    "#   \n",
    "analyzer = yat.TweetAnalyzer()\n",
    "analyzer.read_from_csv(\"tweets2019-07-05.csv\")\n",
    "dfr = analyzer.get_dataframe()\n",
    "dfr = dfr.drop(columns=['Unnamed: 0'])"
   ]
  },
  {
   "cell_type": "code",
   "execution_count": 74,
   "metadata": {},
   "outputs": [
    {
     "data": {
      "text/plain": [
       "Index(['tweets', 'author', 'date', 'likes', 'retweets', 'hashtags',\n",
       "       'linked_accounts', 'urls', 'id', 'tweet_type'],\n",
       "      dtype='object')"
      ]
     },
     "execution_count": 74,
     "metadata": {},
     "output_type": "execute_result"
    }
   ],
   "source": [
    "dfr.columns"
   ]
  }
 ],
 "metadata": {
  "kernelspec": {
   "display_name": "Python 3",
   "language": "python",
   "name": "python3"
  },
  "language_info": {
   "codemirror_mode": {
    "name": "ipython",
    "version": 3
   },
   "file_extension": ".py",
   "mimetype": "text/x-python",
   "name": "python",
   "nbconvert_exporter": "python",
   "pygments_lexer": "ipython3",
   "version": "3.6.7"
  },
  "pycharm": {
   "stem_cell": {
    "cell_type": "raw",
    "metadata": {
     "collapsed": false
    },
    "source": []
   }
  }
 },
 "nbformat": 4,
 "nbformat_minor": 2
}
